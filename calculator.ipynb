{
 "cells": [
  {
   "cell_type": "code",
   "execution_count": null,
   "metadata": {},
   "outputs": [],
   "source": [
    "# Includes"
   ]
  },
  {
   "cell_type": "code",
   "execution_count": 8,
   "metadata": {},
   "outputs": [],
   "source": [
    "input_tokens = input(\"Enter a math expression using '+-*/: \").split()"
   ]
  },
  {
   "cell_type": "code",
   "execution_count": 9,
   "metadata": {},
   "outputs": [
    {
     "name": "stdout",
     "output_type": "stream",
     "text": [
      "-4.0\n"
     ]
    }
   ],
   "source": [
    "\n",
    "total = float(input_tokens[0])\n",
    "next_op = ''\n",
    "\n",
    "for tok in input_tokens[1:]:\n",
    "    if tok in \"+-*/\":\n",
    "        next_op = tok\n",
    "    else:\n",
    "        if next_op == '+':\n",
    "            total += float(tok)\n",
    "        elif next_op == '-':\n",
    "            total -= float(tok)\n",
    "        elif next_op == '*':\n",
    "            total *= float(tok)\n",
    "        else:\n",
    "            total /= float(tok)\n",
    "\n",
    "print(total)\n",
    "\n"
   ]
  }
 ],
 "metadata": {
  "kernelspec": {
   "display_name": "Python 3.9.12 ('base')",
   "language": "python",
   "name": "python3"
  },
  "language_info": {
   "codemirror_mode": {
    "name": "ipython",
    "version": 3
   },
   "file_extension": ".py",
   "mimetype": "text/x-python",
   "name": "python",
   "nbconvert_exporter": "python",
   "pygments_lexer": "ipython3",
   "version": "3.9.12"
  },
  "orig_nbformat": 4,
  "vscode": {
   "interpreter": {
    "hash": "235e0ac2bcbd5855e61426b5fe49069c9a107e612214bf13bf5bec126b3c83b6"
   }
  }
 },
 "nbformat": 4,
 "nbformat_minor": 2
}
